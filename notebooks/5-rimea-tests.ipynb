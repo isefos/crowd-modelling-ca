{
 "cells": [
  {
   "cell_type": "markdown",
   "id": "2bf2db35",
   "metadata": {},
   "source": [
    "# Task 5: Tests\n",
    "\n",
    "Test your implementation with the following scenarios from the RiMEA guidelines. They provide support for verification and validation of simulation software for crowds. The tests in the guideline may contain features that are not implemented in your cellular automaton. Discuss why you need to implement them to complete the test, or why you can neglect the particular feature and still obtain reasonable test results. A good example for a feature that can be ignored for the tests below is the premovement time (why?). Another one is a (significant) reduction of the\n",
    "number of pedestrians in RiMEA scenario 4 by shrinking the scenario. This may be necessary if you run into\n",
    "problems with computational efficiency."
   ]
  },
  {
   "cell_type": "code",
   "execution_count": null,
   "id": "4124125a",
   "metadata": {},
   "outputs": [],
   "source": [
    "# always import addroot first\n",
    "import addroot"
   ]
  },
  {
   "cell_type": "code",
   "execution_count": null,
   "id": "9019be5b",
   "metadata": {},
   "outputs": [],
   "source": [
    "# we will import everything else here\n",
    "import numpy as np\n",
    "from src.ca import CrowdModelCellularAutomaton\n",
    "from src.config import get_save_figure_function\n",
    "from src.notebook_utils import plot_fundamental_diagrams, plot_average_velocities_per_time_interval\n",
    "from IPython.display import HTML\n",
    "\n",
    "save_current_figure = get_save_figure_function(\"5_rimea_tests\")\n",
    "\n",
    "\n",
    "# set matplotlib to interactive mode -> requires ipympl to be installed\n",
    "%matplotlib widget\n",
    "\n",
    "%reload_ext autoreload\n",
    "%autoreload 2"
   ]
  },
  {
   "cell_type": "markdown",
   "id": "a9a2d196",
   "metadata": {},
   "source": [
    "## 1. TEST1: RiMEA scenario 1 (straight line, ignore premovement time).\n",
    "\n",
    "Constructing the scenario:\n",
    " - $2m \\times 40 m$ with a grid unit of $0.4 m$ would result in a $5 \\times 100$ cells grid.\n",
    " - we can add one extra cell in the length, to compensate for the pedestrian starting in a cell already, ensuring that they must walk the full $40m$.\n",
    " - pedestrian should walk at a constant speed of $1.33 \\left[\\frac{m}{s}\\right]$."
   ]
  },
  {
   "cell_type": "code",
   "execution_count": null,
   "id": "b07f51b0",
   "metadata": {},
   "outputs": [],
   "source": [
    "ca1 = CrowdModelCellularAutomaton(grid_size=(5, 101))\n",
    "ca1.set_cell_pedestrian((3, 0), speed_m_per_s=1.33)\n",
    "ca1.set_area_target((0, 100), (4, 100))\n",
    "ca1.save_state()"
   ]
  },
  {
   "cell_type": "markdown",
   "id": "3c6f226b",
   "metadata": {},
   "source": [
    "The test:\n",
    " - To test whether the defined speed was actually produced by the simulation, we check the amount of time it takes for all pedestrians (in this case only one) to evacuate the scenario (i.e. be absorbed by a target). The given threshold to pass the test is $[26s, 34s]$.\n",
    "\n",
    " - Since movement speed is implemented in a stochastic manner, we can repeat the simulation a couple of times to get a better understanding of the results:"
   ]
  },
  {
   "cell_type": "code",
   "execution_count": null,
   "id": "26000390",
   "metadata": {},
   "outputs": [],
   "source": [
    "n_simulations = 100\n",
    "print(f\"Running {n_simulations} simulations...\")\n",
    "evacuation_times = []\n",
    "passed_tests = []\n",
    "effective_speeds = []\n",
    "for _ in range(100):\n",
    "    ca1.simulate(start_at_saved_state=True, seconds=40, verbose=False)\n",
    "    evacuation_time = ca1.simulation_total_evacuation_time\n",
    "    evacuation_times.append(evacuation_time)\n",
    "    if 26 <= evacuation_time <= 34:\n",
    "        passed_tests.append(1)\n",
    "    else:\n",
    "        passed_tests.append(0)\n",
    "    effective_speeds.append(40 / evacuation_time)\n",
    "print(\"Done!\\n\")\n",
    "print(f\"Test passed in {100 * sum(passed_tests) / len(passed_tests):.3}% of the runs.\")\n",
    "print(f\"Mean +/- standard deviation of time to reach target: \"\n",
    "      f\"{np.mean(evacuation_times):.3} +/- {np.std(evacuation_times):.3} s\")\n",
    "print(f\"Mean +/- standard deviation of effective speed: {np.mean(effective_speeds):.3} \"\n",
    "      f\"+/- {np.std(effective_speeds):.3} m/s\")"
   ]
  },
  {
   "cell_type": "markdown",
   "id": "206a9221",
   "metadata": {},
   "source": [
    "The test seem to pass around 95% of the time (all the times I checked). This seems to be within the acceptable range of variation, which could just as well occurr naturally e.g. due to measuring errors.  \n",
    "\n",
    "\n",
    "We can take a look at the interactive visualization of the last simulation to verify that the pedestrian gets absorbed at the reported time."
   ]
  },
  {
   "cell_type": "code",
   "execution_count": null,
   "id": "d2c9d320",
   "metadata": {},
   "outputs": [],
   "source": [
    "print(f\"Distance walked: {ca1.get_simulation_average_walked_distance():.3}m\")\n",
    "print(f\"Pedestrian reaches target at: {ca1.simulation_total_evacuation_time:.3}s\")\n",
    "print(f\"Speed: {ca1.get_simulation_average_speed():.4}m/s\")\n",
    "ca1.plot_simulation_with_time_slider(fig_size=(8, 1.5))"
   ]
  },
  {
   "cell_type": "code",
   "execution_count": null,
   "id": "b88364e0",
   "metadata": {},
   "outputs": [],
   "source": [
    "# once you have selected a slider position that you like:\n",
    "#save_current_figure(\"test_1_slider\")"
   ]
  },
  {
   "cell_type": "markdown",
   "id": "ad10d60b",
   "metadata": {},
   "source": [
    "## 2. TEST2: RiMEA scenario 4 (fundamental diagram, be careful with periodic boundary conditions).\n",
    "\n",
    "Constructing the scenario:\n",
    "\n",
    " - a corridor $1000 m$ long, $10 m$ wide. This is very large, and can be reasonably simplified by a $100 m$ long corridor.\n",
    " - The corridor is to be filled with different densities of persons with an equal as possible free walking speed (for example $1.2$ – $1.4$ m/s). We use $1.3$ here.\n",
    " - Densities: $0.5$, $1$, $2$, $3$, $4$, $5$ and $6 \\left[\\frac{P}{m^2}\\right]$.\n",
    " - The average speed of pedestrians at the $500m$ mark during $60s$ should be measured. The measurement should start $10s$ after the simulation start.\n",
    " \n",
    "The measuring process is a bit involved, so we simplify it: Instead of measuring at a specific location, we take the average speed of all pedestrians. This should work reasonably well if the speeds of the pedestrians are similar throughout the corridor (no local differences). This holds for basically all the above densities, except for the highest (6), as we will be able to see later."
   ]
  },
  {
   "cell_type": "code",
   "execution_count": null,
   "id": "ac0d214a",
   "metadata": {},
   "outputs": [],
   "source": [
    "def get_model_test_2(density):\n",
    "    ca = CrowdModelCellularAutomaton(grid_size=(27, 250))\n",
    "    ca.set_area_obstacle((0, 0), (0, 249))\n",
    "    ca.set_area_obstacle((26, 0), (26, 249))\n",
    "    ca.set_area_pedestrian_random_density(density, (1, 0), (25, 248), speed_m_per_s=1.3)\n",
    "    ca.set_area_target((1, 249), (25, 249))\n",
    "    ca.save_state()\n",
    "    return ca"
   ]
  },
  {
   "cell_type": "markdown",
   "id": "4b64af38",
   "metadata": {},
   "source": [
    "This will run the simulations at each density (takes a while):"
   ]
  },
  {
   "cell_type": "code",
   "execution_count": null,
   "id": "4c84ae5c",
   "metadata": {
    "scrolled": true
   },
   "outputs": [],
   "source": [
    "rerun = False  # only set to True if you want to re-run: may take about 40 minutes...\n",
    "\n",
    "densities = [0.5, 1, 2, 3, 4, 5, 6]\n",
    "\n",
    "if rerun:\n",
    "    ca_2_dict = dict()\n",
    "    average_speed = []\n",
    "    for density in densities:\n",
    "        print(f\"Running simulation with density of {density} p/m^2\")\n",
    "        ca_2_dict[density] = get_model_test_2(density)\n",
    "        ca_2_dict[density].simulate(start_at_saved_state=True, seconds=70)\n",
    "        average_speed.append(ca_2_dict[density].get_simulation_average_speed(from_second=10))\n",
    "        print(\"\\n\")"
   ]
  },
  {
   "cell_type": "markdown",
   "id": "b6761ad1",
   "metadata": {},
   "source": [
    "Now we can take a look at how the average velocities during the simulation changed over time:"
   ]
  },
  {
   "cell_type": "code",
   "execution_count": null,
   "id": "35172ea2",
   "metadata": {},
   "outputs": [],
   "source": [
    "if rerun:\n",
    "    plot_average_velocities_per_time_interval(ca_2_dict)\n",
    "    save_current_figure(\"test_2_speed_per_density\")"
   ]
  },
  {
   "cell_type": "markdown",
   "id": "3a1b2cbc",
   "metadata": {},
   "source": [
    "Clearly, the higher densities (especially 6) are different. In the lower density settings, the speed can be practically considered constant over time. However in the high density setting, that is not the case. We can see this effect in the animation:"
   ]
  },
  {
   "cell_type": "code",
   "execution_count": null,
   "id": "80662c44",
   "metadata": {},
   "outputs": [],
   "source": [
    "if rerun:\n",
    "    # will take a while, also maybe 5-15 minutes...\n",
    "    #HTML(ca_2_dict[6].video_simulation_animation(speed_up=2.0, fig_size=(10, 3)))\n",
    "    pass"
   ]
  },
  {
   "cell_type": "markdown",
   "id": "e67cad8f",
   "metadata": {},
   "source": [
    "Finally, the resulting fundamental diagrams can be plotted:"
   ]
  },
  {
   "cell_type": "code",
   "execution_count": null,
   "id": "f491b870",
   "metadata": {},
   "outputs": [],
   "source": [
    "if rerun:\n",
    "    plot_fundamental_diagrams(densities, average_speed)\n",
    "    save_current_figure(\"test_2_fundamental_diagrams\")"
   ]
  },
  {
   "cell_type": "markdown",
   "id": "467ea643",
   "metadata": {},
   "source": [
    "## 3. TEST3: RiMEA scenario 6 (movement around a corner).\n",
    "\n",
    "Constructing the scenario:\n",
    " - The dimensions of the scenario are given in the diagram of RiMEA figure 5.\n",
    " - 20 pedestrians are to be uniformly placed in the starting area."
   ]
  },
  {
   "cell_type": "code",
   "execution_count": null,
   "id": "c19493fe",
   "metadata": {},
   "outputs": [],
   "source": [
    "ca3 = CrowdModelCellularAutomaton(grid_size=(31, 31))\n",
    "ca3.set_area_pedestrian_random_n(20, (25, 0), (29, 15))\n",
    "ca3.set_area_obstacle((24, 0), (24, 24))\n",
    "ca3.set_area_obstacle((0, 24), (24, 24))\n",
    "ca3.set_area_obstacle((30, 0), (30, 30))\n",
    "ca3.set_area_obstacle((0, 30), (30, 30))\n",
    "ca3.set_area_target((0, 25), (0, 29))\n",
    "ca3.save_state()"
   ]
  },
  {
   "cell_type": "markdown",
   "id": "bb5bc977",
   "metadata": {},
   "source": [
    "The test:\n",
    " - the pedestrians should successfully go around the corner without passing through walls:"
   ]
  },
  {
   "cell_type": "code",
   "execution_count": null,
   "id": "39f0f64f",
   "metadata": {},
   "outputs": [],
   "source": [
    "ca3.simulate(start_at_saved_state=True, seconds=45)"
   ]
  },
  {
   "cell_type": "code",
   "execution_count": null,
   "id": "a9c9e4e6",
   "metadata": {},
   "outputs": [],
   "source": [
    "ca3.plot_simulation_end_state()"
   ]
  },
  {
   "cell_type": "code",
   "execution_count": null,
   "id": "03d9867f",
   "metadata": {
    "scrolled": false
   },
   "outputs": [],
   "source": [
    "ca3.plot_simulation_with_time_slider()"
   ]
  },
  {
   "cell_type": "markdown",
   "id": "532b7faf",
   "metadata": {},
   "source": [
    "The plots clearly show that the test passes successfully! No walls or corners are passed through.\n",
    "\n",
    "## 4. TEST4: RiMEA scenario 7 \n",
    "\n",
    "(demographic parameters, visual comparison of figure and results is sufficient. Simple and correct statistical test gives 5 bonus points if you argue why your choice of test is correct).\n",
    "\n",
    "Show that a population of 50 adults has a simulation speed distribution dependent on the age, similar to RiMEA figure 2. "
   ]
  },
  {
   "cell_type": "code",
   "execution_count": null,
   "id": "ccd8d187",
   "metadata": {},
   "outputs": [],
   "source": [
    "ca4 = CrowdModelCellularAutomaton(grid_size=(100, 375))\n",
    "for i in range(0, 100, 2):\n",
    "    ca4.set_cell_pedestrian((i, 0))\n",
    "ca4.set_area_target((0, 374), (99, 374))\n",
    "ca4.save_state()\n",
    "ca4.plot_state()"
   ]
  },
  {
   "cell_type": "code",
   "execution_count": null,
   "id": "a42ebef7",
   "metadata": {},
   "outputs": [],
   "source": [
    "ca4.simulate(start_at_saved_state=True, seconds=60)"
   ]
  },
  {
   "cell_type": "code",
   "execution_count": null,
   "id": "31dc649e",
   "metadata": {},
   "outputs": [],
   "source": [
    "ca4.plot_simulation_end_state()"
   ]
  },
  {
   "cell_type": "code",
   "execution_count": null,
   "id": "398022b5",
   "metadata": {},
   "outputs": [],
   "source": [
    "ca4.plot_simulation_speed_function_of_age()"
   ]
  },
  {
   "cell_type": "code",
   "execution_count": null,
   "id": "66ce2d79",
   "metadata": {},
   "outputs": [],
   "source": [
    "from src.simulation_parameters import SimulationParameters"
   ]
  },
  {
   "cell_type": "code",
   "execution_count": null,
   "id": "7d118747",
   "metadata": {},
   "outputs": [],
   "source": [
    "sp = SimulationParameters()"
   ]
  },
  {
   "cell_type": "code",
   "execution_count": null,
   "id": "8b9b7312",
   "metadata": {},
   "outputs": [],
   "source": [
    "sp.test_distribution_sampling()"
   ]
  },
  {
   "cell_type": "markdown",
   "id": "8cea5ee9",
   "metadata": {},
   "source": [
    "Done!"
   ]
  }
 ],
 "metadata": {
  "interpreter": {
   "hash": "916dbcbb3f70747c44a77c7bcd40155683ae19c65e1c03b4aa3499c5328201f1"
  },
  "kernelspec": {
   "display_name": "Python 3 (ipykernel)",
   "language": "python",
   "name": "python3"
  },
  "language_info": {
   "codemirror_mode": {
    "name": "ipython",
    "version": 3
   },
   "file_extension": ".py",
   "mimetype": "text/x-python",
   "name": "python",
   "nbconvert_exporter": "python",
   "pygments_lexer": "ipython3",
   "version": "3.10.4"
  }
 },
 "nbformat": 4,
 "nbformat_minor": 5
}
