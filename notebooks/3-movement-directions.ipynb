{
 "cells": [
  {
   "cell_type": "markdown",
   "id": "dee6ed55",
   "metadata": {},
   "source": [
    "# Task 3: Interaction of pedestrians"
   ]
  },
  {
   "cell_type": "markdown",
   "id": "b44a433d",
   "metadata": {},
   "source": [
    "Now the pedestrians have to interact with each other. **Insert five pedestrians, roughly equally spaced on a circle in a fairly large distance (30-50m) around a single target in the center**\n",
    "of the scenario. Run the scenario and report your findings. What is the configuration of the pedestrians around\n",
    "the target after the simulation? **It is also possible to have them removed entirely, if you made your target\n",
    "absorbing?** Do the pedestrians all **reach the target roughly at the same time?** They should, because they\n",
    "start at the same distance! Be careful that distance here does not mean number of cells, but Euclidean\n",
    "distance. If not, implement a way to correctly traverse the space in arbitrary directions with roughly the same\n",
    "speed."
   ]
  },
  {
   "cell_type": "code",
   "execution_count": null,
   "id": "895ed999",
   "metadata": {},
   "outputs": [],
   "source": [
    "# always import addroot first\n",
    "import addroot"
   ]
  },
  {
   "cell_type": "code",
   "execution_count": null,
   "id": "d5b948e8",
   "metadata": {},
   "outputs": [],
   "source": [
    "# we will import everything else here\n",
    "from src.ca import CrowdModelCellularAutomaton\n",
    "from src.notebook_utils import get_n_equally_spaced_points_on_grid_circle\n",
    "from src.config import get_save_figure_function\n",
    "import numpy as np\n",
    "\n",
    "save_current_figure = get_save_figure_function(\"3_movement_directions\")\n",
    "\n",
    "\n",
    "# set matplotlib to interactive mode -> requires ipympl to be installed\n",
    "%matplotlib widget\n",
    "\n",
    "%reload_ext autoreload\n",
    "%autoreload 2"
   ]
  },
  {
   "cell_type": "markdown",
   "id": "0bb200d5",
   "metadata": {},
   "source": [
    "### 1. Construct the scenario.\n",
    "\n",
    "Get the required number of cells for a circle with radius of 30m:"
   ]
  },
  {
   "cell_type": "code",
   "execution_count": null,
   "id": "a2fc1c8b",
   "metadata": {},
   "outputs": [],
   "source": [
    "radius = 30  # meters\n",
    "cell_unit = 0.4  # meters\n",
    "cell_radius = int(radius / cell_unit)\n",
    "cell_diameter = cell_radius * 2\n",
    "cell_grid = cell_diameter + 2  # circle should fit on this many cell units across (+ 1 on each side to make sure)\n",
    "print(\"Square grid with a side length of\", cell_grid, \"cells.\")"
   ]
  },
  {
   "cell_type": "markdown",
   "id": "bf0d1a93",
   "metadata": {},
   "source": [
    "We want to put a target at the center of the circle:"
   ]
  },
  {
   "cell_type": "code",
   "execution_count": null,
   "id": "9bcccfe6",
   "metadata": {},
   "outputs": [],
   "source": [
    "center = int(cell_grid / 2) - 1\n",
    "circle_center = [center, center]"
   ]
  },
  {
   "cell_type": "markdown",
   "id": "919d175e",
   "metadata": {},
   "source": [
    "Now want equally spaced pedestrians on the circle:\n",
    " - first we need to get coordinates that match these requirements. We will use our function `get_n_equally_spaced_points_on_grid_circle(n, center, radius)`, which will return an array containing `n` randomly rotated discrete point coordinates approximately equally spaced and approximately on the continuous circle with given `center` and `radius`."
   ]
  },
  {
   "cell_type": "code",
   "execution_count": null,
   "id": "79c370dc",
   "metadata": {},
   "outputs": [],
   "source": [
    "pedestrian_locations = get_n_equally_spaced_points_on_grid_circle(n=5, center=circle_center, radius=cell_radius)\n",
    "display(pedestrian_locations)"
   ]
  },
  {
   "cell_type": "markdown",
   "id": "0420f796",
   "metadata": {},
   "source": [
    " - now we can add the pedestrians at the given cells.\n",
    " - to make sure they even have a chance at reaching the target roughly at the same time, of course we must give them equal speeds.\n",
    " - Since the implementation of varying speeds relies on a stochastic process, here we simply set their speeds to the maximum speed, which essentially makes them move at each time step, making the results slightly more deterministic."
   ]
  },
  {
   "cell_type": "code",
   "execution_count": null,
   "id": "b12035af",
   "metadata": {},
   "outputs": [],
   "source": [
    "def get_scenario_model(absorbing, save=True):\n",
    "    ca = CrowdModelCellularAutomaton(grid_size=(cell_grid, cell_grid), absorbing_targets=absorbing)\n",
    "    ca.set_cell_target(circle_center)\n",
    "    # sample new pedestrian locations\n",
    "    pedestrian_locations = get_n_equally_spaced_points_on_grid_circle(5, circle_center, cell_radius)\n",
    "    for i in range(pedestrian_locations.shape[0]):\n",
    "        ca.set_cell_pedestrian(pedestrian_locations[i, :], max_speed_fraction=1.0)\n",
    "    if save:\n",
    "        ca.save_state()\n",
    "    return ca"
   ]
  },
  {
   "cell_type": "markdown",
   "id": "34e49432",
   "metadata": {},
   "source": [
    "### 2. Simulation (non-absorbing).\n",
    "\n",
    "Now that we are done constructing the scenario we can save the state and simulate the movement:"
   ]
  },
  {
   "cell_type": "code",
   "execution_count": null,
   "id": "8112a2cd",
   "metadata": {},
   "outputs": [],
   "source": [
    "ca1 = get_scenario_model(absorbing=False)\n",
    "ca1.plot_state(fig_size=(10, 10))\n",
    "save_current_figure(\"scenario\")\n",
    "\n",
    "simulation_seconds = 15"
   ]
  },
  {
   "cell_type": "code",
   "execution_count": null,
   "id": "eddad34c",
   "metadata": {},
   "outputs": [],
   "source": [
    "ca1.simulate(start_at_saved_state=True, seconds=simulation_seconds)"
   ]
  },
  {
   "cell_type": "code",
   "execution_count": null,
   "id": "4c33710e",
   "metadata": {},
   "outputs": [],
   "source": [
    "ca1.plot_simulation_end_state(fig_size=(10, 10))\n",
    "save_current_figure(\"non_absorbing_end_state\")"
   ]
  },
  {
   "cell_type": "code",
   "execution_count": null,
   "id": "16c28ae0",
   "metadata": {},
   "outputs": [],
   "source": [
    "ca1.plot_simulation_with_time_slider(fig_size=(10, 10))"
   ]
  },
  {
   "cell_type": "code",
   "execution_count": null,
   "id": "f2fff17a",
   "metadata": {},
   "outputs": [],
   "source": [
    "# once you have selected a slider position that you like:\n",
    "#save_current_figure(\"non_absorbing_slider\")"
   ]
  },
  {
   "cell_type": "markdown",
   "id": "d7e2c0ad",
   "metadata": {},
   "source": [
    "### 3. Simulation (absorbing).\n",
    "\n",
    "We can now construct the scenario again and set the target to be absorbing:"
   ]
  },
  {
   "cell_type": "code",
   "execution_count": null,
   "id": "22f2c3d2",
   "metadata": {},
   "outputs": [],
   "source": [
    "ca2 = get_scenario_model(absorbing=True)"
   ]
  },
  {
   "cell_type": "markdown",
   "id": "6e8ea97e",
   "metadata": {},
   "source": [
    "And run the simulation:"
   ]
  },
  {
   "cell_type": "code",
   "execution_count": null,
   "id": "b3e60922",
   "metadata": {},
   "outputs": [],
   "source": [
    "ca2.simulate(start_at_saved_state=True, seconds=simulation_seconds)"
   ]
  },
  {
   "cell_type": "code",
   "execution_count": null,
   "id": "0b7b81f6",
   "metadata": {},
   "outputs": [],
   "source": [
    "ca2.plot_simulation_end_state(fig_size=(10, 10))\n",
    "save_current_figure(\"absorbing_end_state\")"
   ]
  },
  {
   "cell_type": "code",
   "execution_count": null,
   "id": "bedc8c3b",
   "metadata": {},
   "outputs": [],
   "source": [
    "ca2.plot_simulation_with_time_slider(fig_size=(10, 10))"
   ]
  },
  {
   "cell_type": "code",
   "execution_count": null,
   "id": "335a2f4f",
   "metadata": {},
   "outputs": [],
   "source": [
    "# once you have selected a slider position that you like:\n",
    "#save_current_figure(\"absorbing_slider\")"
   ]
  },
  {
   "cell_type": "markdown",
   "id": "b5f4ab80",
   "metadata": {},
   "source": [
    "### 4. Do they reach the target roughly at the same time?\n",
    "\n",
    "We can use the plot with the slider to check this interactively. Based on the slider plot, the pedestrians seems to arrive at the target roughly at the same time. But let us examine this more analytically.\n",
    "\n",
    "Now that the targets are absorbing, we save the time at which the pedestrian is absorbed as its evacuation time. So we can check the difference between the evacuation times: "
   ]
  },
  {
   "cell_type": "code",
   "execution_count": null,
   "id": "7db63e12",
   "metadata": {},
   "outputs": [],
   "source": [
    "evacuation_times = ca2.get_simulation_evacuation_times_per_pedestrian()  # {id_1: evac_time_1, ...}\n",
    "evacuation_times = sorted(evacuation_times.values())  # [evac_time_1, ...]\n",
    "print(\"Evacuation times:\", end=\" \")\n",
    "for t in evacuation_times:\n",
    "    print(f\"{t:.4}s\", end=\" \")\n",
    "ratio_fastest_slowest = min(evacuation_times) / max(evacuation_times)\n",
    "print(f\"\\nThe fastest pedestrian reached the target in {100 * (ratio_fastest_slowest):.3}%\"\n",
    "      f\" of the time it took the slowest one.\")"
   ]
  },
  {
   "cell_type": "markdown",
   "id": "4d08911d",
   "metadata": {},
   "source": [
    "However, the movement of the pedestrians is limited to the square grid. The optimal path from the radius to the center is usually not possible, unless that path is either on a single axis, or exactly in the diagonal. Therefore, there is also a variation in the path distance travelled by the 5 pedestrians. We can check the walked distances:"
   ]
  },
  {
   "cell_type": "code",
   "execution_count": null,
   "id": "dfb5046b",
   "metadata": {},
   "outputs": [],
   "source": [
    "walked_distances = ca2.get_simulation_walked_distance_per_pedestrian()  # {id_1: dist_1, ...}\n",
    "walked_distances = sorted(walked_distances.values())  # [dist_1, ...]\n",
    "print(\"Walked distances:\", end=\" \")\n",
    "for d in walked_distances:\n",
    "    print(f\"{d:.4}m\", end=\" \")\n",
    "ratio_closest_to_furthest = min(walked_distances) / max(walked_distances)\n",
    "print(f\"\\nThe closest pedestrian also had to walk only {100 * (ratio_closest_to_furthest):.3}%\"\n",
    "      f\" of the distance walked by the furthest away one.\")"
   ]
  },
  {
   "cell_type": "markdown",
   "id": "9b2622fc",
   "metadata": {},
   "source": [
    "Therefore, this unavoidable difference in path distance (property of the modeling abstraction) probably accounts for at least some of the difference in evacuation time. To check if that is the case, we can look at the average speeds of the pedestrians, since these already account for the distance walked. The average speed per pedestrian can be obtained directly (even when the target is non-absorbing):"
   ]
  },
  {
   "cell_type": "code",
   "execution_count": null,
   "id": "2f7126f2",
   "metadata": {},
   "outputs": [],
   "source": [
    "speeds = ca2.get_simulation_average_speed_per_pedestrian()  # {id_1: speed_1, ...}\n",
    "speeds = list(speeds.values())  # [speed_1, ...]\n",
    "print(\"Speeds:\", end=\" \")\n",
    "for s in speeds:\n",
    "    print(f\"{s:.4}m/s\", end=\" \")\n",
    "ratio_fastest_slowest = max(speeds) / min(speeds)\n",
    "print(f\"\\nThe fastest pedestrian was only {100 * (ratio_fastest_slowest - 1):.3}% faster than the slowest one.\")"
   ]
  },
  {
   "cell_type": "markdown",
   "id": "d83716f3",
   "metadata": {},
   "source": [
    "We can clearly see that the speeds have a smaller difference than the evacuation times, confirming the hypothesis above. \n",
    "\n",
    "Yet, even without justification, the difference in time to reach the target is still within a reasonably small margin of error. Since the placement of the points around the circle contains some randomness, we can repeat the experiment a couple of times and report the mean and maximum difference: "
   ]
  },
  {
   "cell_type": "code",
   "execution_count": null,
   "id": "549e3a2c",
   "metadata": {},
   "outputs": [],
   "source": [
    "min_max_time_percentages = []\n",
    "print(\"Running...\")\n",
    "for _ in range(5):\n",
    "    ca3 = get_scenario_model(absorbing=True, save=False)\n",
    "    ca3.simulate(start_at_saved_state=False, seconds=simulation_seconds, verbose=False)\n",
    "    evacuation_times = list(ca3.get_simulation_evacuation_times_per_pedestrian().values())\n",
    "    min_max_time_percentages.append(min(evacuation_times) / max(evacuation_times))\n",
    "print(f\"On average, the fastest pedestrian took {np.mean(min_max_time_percentages) * 100:.3}%\"\n",
    "      f\" of the time it took the slowest one.\")\n",
    "print(f\"At worst, it took the fastest pedestrian {min(min_max_time_percentages) * 100:.3}%\"\n",
    "      f\" of the time it took the slowest one.\")"
   ]
  },
  {
   "cell_type": "markdown",
   "id": "f52dedd4",
   "metadata": {},
   "source": [
    "The worst difference seems to always be above 90% (all of the times I checked), which seems acceptable."
   ]
  },
  {
   "cell_type": "markdown",
   "id": "e3fa859f",
   "metadata": {},
   "source": [
    "Done!"
   ]
  }
 ],
 "metadata": {
  "kernelspec": {
   "display_name": "Python 3 (ipykernel)",
   "language": "python",
   "name": "python3"
  },
  "language_info": {
   "codemirror_mode": {
    "name": "ipython",
    "version": 3
   },
   "file_extension": ".py",
   "mimetype": "text/x-python",
   "name": "python",
   "nbconvert_exporter": "python",
   "pygments_lexer": "ipython3",
   "version": "3.10.4"
  }
 },
 "nbformat": 4,
 "nbformat_minor": 5
}
