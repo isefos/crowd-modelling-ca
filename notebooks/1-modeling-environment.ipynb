{
 "cells": [
  {
   "cell_type": "markdown",
   "id": "5487a430",
   "metadata": {},
   "source": [
    "# Task 1: Setting up the modeling environment"
   ]
  },
  {
   "cell_type": "code",
   "execution_count": null,
   "id": "2054599a",
   "metadata": {},
   "outputs": [],
   "source": [
    "# always import addroot first\n",
    "import addroot"
   ]
  },
  {
   "cell_type": "code",
   "execution_count": null,
   "id": "2643dd53",
   "metadata": {},
   "outputs": [],
   "source": [
    "# we will import everything else here\n",
    "from src.ca import CrowdModelCellularAutomaton\n",
    "from src.config import get_save_figure_function\n",
    "from IPython.display import HTML\n",
    "\n",
    "save_current_figure = get_save_figure_function(\"1_modeling_env\")\n",
    "\n",
    "\n",
    "# set matplotlib to interactive mode -> requires ipympl to be installed\n",
    "%matplotlib widget\n",
    "\n",
    "%reload_ext autoreload\n",
    "%autoreload 2"
   ]
  },
  {
   "cell_type": "markdown",
   "id": "3b07877c",
   "metadata": {
    "pycharm": {
     "name": "#%% md\n"
    }
   },
   "source": [
    "### 1. Basic visualization.\n",
    "\n",
    "We use ```matplotlib``` for our visualizations. \n",
    "\n",
    "Here we visualize an empty grid with $50*50$ cells. By default a cell is a square of side length $0.4m$, therefore, the grid corresponds to $20 m * 20 m$: "
   ]
  },
  {
   "cell_type": "code",
   "execution_count": null,
   "id": "5af1d398",
   "metadata": {
    "pycharm": {
     "name": "#%%\n"
    }
   },
   "outputs": [],
   "source": [
    "ca1 = CrowdModelCellularAutomaton(grid_size=(50, 50))\n",
    "print(f\"A single cell is a square with side length of {ca1.simulation_parameters.grid_unit} m.\")\n",
    "ca1.plot_state()\n",
    "save_current_figure(\"empty_grid\")"
   ]
  },
  {
   "cell_type": "markdown",
   "id": "f1c3bc57",
   "metadata": {},
   "source": [
    "### 2. Adding pedestrians in cells."
   ]
  },
  {
   "cell_type": "markdown",
   "id": "733ebdb5",
   "metadata": {},
   "source": [
    "Adding a single pedestrian:"
   ]
  },
  {
   "cell_type": "code",
   "execution_count": null,
   "id": "77f818c8",
   "metadata": {
    "scrolled": false
   },
   "outputs": [],
   "source": [
    "ca1.set_cell_pedestrian((3, 5))\n",
    "ca1.plot_state()\n",
    "save_current_figure(\"add_single_p\")"
   ]
  },
  {
   "cell_type": "markdown",
   "id": "384f229d",
   "metadata": {},
   "source": [
    "Randomly adding pedestrians in an area (defined by the upper left and lower right corners):\n",
    "  - N pedestrians (here 20):"
   ]
  },
  {
   "cell_type": "code",
   "execution_count": null,
   "id": "5f70f5eb",
   "metadata": {
    "pycharm": {
     "name": "#%%\n"
    },
    "scrolled": true
   },
   "outputs": [],
   "source": [
    "ca1.set_area_pedestrian_random_n(35, (8, 8), (20, 20))\n",
    "ca1.plot_state()\n",
    "save_current_figure(\"add_20_p\")"
   ]
  },
  {
   "cell_type": "markdown",
   "id": "19223968",
   "metadata": {},
   "source": [
    "  - pedestrians with a defined density in $\\left[\\frac{\\text{p}}{m^2}\\right]$, where $p$ is the number of pedestrians (here 1.0):"
   ]
  },
  {
   "cell_type": "code",
   "execution_count": null,
   "id": "8b77793a",
   "metadata": {
    "pycharm": {
     "name": "#%%\n"
    }
   },
   "outputs": [],
   "source": [
    "ca1.set_area_pedestrian_random_density(1.5, (28, 28), (40, 40))\n",
    "ca1.plot_state()\n",
    "save_current_figure(\"add_density_p\")"
   ]
  },
  {
   "cell_type": "markdown",
   "id": "b3c16fd7",
   "metadata": {},
   "source": [
    "When adding a pedestrian, we also set the attributes of the pedestrian. The attributes include the age, sex, and speed of the pedestrian. All of these can be manually specified when adding the pedestrian, but when omitted, the values are randomly sampled from the default underlying population distributions. These distributions can also be specified during the instantiation of the model, but by default the distributions given by RiMEA are used. We can plot the distributions of our current sample of pedestrians on top of the population distributions.\n",
    "\n",
    "The age distribution of pedestrians:"
   ]
  },
  {
   "cell_type": "code",
   "execution_count": null,
   "id": "bec3b0b0",
   "metadata": {},
   "outputs": [],
   "source": [
    "ca1.plot_age_histogram(n_bins=5)\n",
    "save_current_figure(\"pedestrian_age_distribution\")"
   ]
  },
  {
   "cell_type": "markdown",
   "id": "0ecfcae9",
   "metadata": {},
   "source": [
    "The sexes distribution:"
   ]
  },
  {
   "cell_type": "code",
   "execution_count": null,
   "id": "10789bc3",
   "metadata": {},
   "outputs": [],
   "source": [
    "ca1.plot_sexes_histogram()\n",
    "save_current_figure(\"pedestrian_sex_distribution\")"
   ]
  },
  {
   "cell_type": "markdown",
   "id": "4b421bd2",
   "metadata": {},
   "source": [
    "The speed per sex:"
   ]
  },
  {
   "cell_type": "code",
   "execution_count": null,
   "id": "fcc84571",
   "metadata": {},
   "outputs": [],
   "source": [
    "ca1.plot_sexes_mean_speed()\n",
    "save_current_figure(\"avg_speed_per_sex\")"
   ]
  },
  {
   "cell_type": "markdown",
   "id": "69f4a37f",
   "metadata": {},
   "source": [
    "And finally, the mean speed and standard deviation per given age group:"
   ]
  },
  {
   "cell_type": "code",
   "execution_count": null,
   "id": "e7413ff1",
   "metadata": {},
   "outputs": [],
   "source": [
    "ca1.plot_speed_function_of_age(n_bins=5)\n",
    "save_current_figure(\"speed_by_age\")"
   ]
  },
  {
   "cell_type": "markdown",
   "id": "ab6264b4",
   "metadata": {},
   "source": [
    "### 3. Adding targets in cells.\n",
    "\n",
    "Adding a single target cell:"
   ]
  },
  {
   "cell_type": "code",
   "execution_count": null,
   "id": "487e5439",
   "metadata": {},
   "outputs": [],
   "source": [
    "ca1.set_cell_target((35, 2))\n",
    "ca1.plot_state()\n",
    "save_current_figure(\"add_single_t\")"
   ]
  },
  {
   "cell_type": "markdown",
   "id": "7795b755",
   "metadata": {},
   "source": [
    "Adding an area of targets:"
   ]
  },
  {
   "cell_type": "code",
   "execution_count": null,
   "id": "364c366c",
   "metadata": {},
   "outputs": [],
   "source": [
    "ca1.set_area_target((25, 46), (45, 49))\n",
    "ca1.plot_state()\n",
    "save_current_figure(\"add_area_t\")"
   ]
  },
  {
   "cell_type": "markdown",
   "id": "f01312b1",
   "metadata": {},
   "source": [
    "### 4. Adding obstacles by making certain cells inaccessible.\n",
    "\n",
    "Adding a single obstacle cell:"
   ]
  },
  {
   "cell_type": "code",
   "execution_count": null,
   "id": "b0f36a40",
   "metadata": {},
   "outputs": [],
   "source": [
    "ca1.set_cell_obstacle((35, 41))\n",
    "ca1.plot_state()\n",
    "save_current_figure(\"add_single_o\")"
   ]
  },
  {
   "cell_type": "markdown",
   "id": "1720bc37",
   "metadata": {},
   "source": [
    "Adding an area of obstacles:"
   ]
  },
  {
   "cell_type": "code",
   "execution_count": null,
   "id": "21170692",
   "metadata": {},
   "outputs": [],
   "source": [
    "ca1.set_area_obstacle((30, 0), (32, 10))\n",
    "ca1.plot_state()\n",
    "save_current_figure(\"add_area_o\")"
   ]
  },
  {
   "cell_type": "markdown",
   "id": "a2d1aefe",
   "metadata": {},
   "source": [
    "### 5. Simulation of the scenario (being able to move the pedestrians).\n",
    "\n",
    "Once the scenario is set up, we can save the state. This will automatically trigger the computation of the constant cost map:"
   ]
  },
  {
   "cell_type": "code",
   "execution_count": null,
   "id": "a3736c24",
   "metadata": {},
   "outputs": [],
   "source": [
    "ca1.save_state()"
   ]
  },
  {
   "cell_type": "markdown",
   "id": "57bc75ab",
   "metadata": {},
   "source": [
    "By default, this constant cost map contains a value for each cell, that represents the distance of the shortest path from that cell to any target cell (if a target is reachable, otherwise just the maximum reachable distance + 1). Other implemented options for a constant cost map are minumum eucliean distance to any taget cell, or just uniform cost everywhere, and can be specified at the CA model object instantiation.\n",
    "\n",
    "The shortest path constant cost map is calculated with the Dijkstra algorithm, and can be visualized:"
   ]
  },
  {
   "cell_type": "code",
   "execution_count": null,
   "id": "4611248c",
   "metadata": {},
   "outputs": [],
   "source": [
    "ca1.plot_constant_cost_map()\n",
    "save_current_figure(\"shortest_path_constant_cost_map\")"
   ]
  },
  {
   "cell_type": "markdown",
   "id": "75def88b",
   "metadata": {},
   "source": [
    "Then we can simulate the scenario, starting at the saved state, for as many seconds as given:"
   ]
  },
  {
   "cell_type": "code",
   "execution_count": null,
   "id": "a63159bf",
   "metadata": {},
   "outputs": [],
   "source": [
    "print(f\"The discrete time step of the simulation is {ca1.simulation_parameters.time_step} s.\\n\\n\")\n",
    "ca1.simulate(start_at_saved_state=True, seconds=30)"
   ]
  },
  {
   "cell_type": "markdown",
   "id": "b223052d",
   "metadata": {},
   "source": [
    "We can visualize the end state of the simulation (after the given seconds) and the paths taken by the pedestrians:"
   ]
  },
  {
   "cell_type": "code",
   "execution_count": null,
   "id": "c9e2a147",
   "metadata": {},
   "outputs": [],
   "source": [
    "ca1.plot_simulation_end_state()\n",
    "save_current_figure(\"end_state\")"
   ]
  },
  {
   "cell_type": "markdown",
   "id": "aeb336be",
   "metadata": {},
   "source": [
    "We can also generate an interactive plot of the state, where a slider defines the simulation time to show. This way we can see the pedestrians moving:"
   ]
  },
  {
   "cell_type": "code",
   "execution_count": null,
   "id": "534ad892",
   "metadata": {},
   "outputs": [],
   "source": [
    "ca1.plot_simulation_with_time_slider()"
   ]
  },
  {
   "cell_type": "code",
   "execution_count": null,
   "id": "3de833f5",
   "metadata": {},
   "outputs": [],
   "source": [
    "# once you have selected a slider position that you like:\n",
    "#save_current_figure(\"slider\")"
   ]
  },
  {
   "cell_type": "markdown",
   "id": "e0b770fa",
   "metadata": {},
   "source": [
    "A different possibility is to generate a matplotlib animation. This will show the simulation running in \"real time\", with an optional argument for using a speedup factor: "
   ]
  },
  {
   "cell_type": "code",
   "execution_count": null,
   "id": "3583834c",
   "metadata": {},
   "outputs": [],
   "source": [
    "animation = ca1.plot_simulation_animation(speed_up=1.0)"
   ]
  },
  {
   "cell_type": "markdown",
   "id": "b23ca76a",
   "metadata": {},
   "source": [
    "The animation can be paused (and resumed) via the appropriate commands. Pausing an animation you are not looking at makes sense, since otherwise the ipykernel (jupyters interactive python kernel) is quite occupied rendering the animation. You may even delete the animation, if you do not plan on resuming it (and you can simply re-plot it just as above if needed)."
   ]
  },
  {
   "cell_type": "code",
   "execution_count": null,
   "id": "98a0e08a",
   "metadata": {},
   "outputs": [],
   "source": [
    "animation.pause()\n",
    "#del animation\n",
    "#animation.resume()"
   ]
  },
  {
   "cell_type": "markdown",
   "id": "5d23d0fa",
   "metadata": {},
   "source": [
    "Rendering the animation using matplotlib and the python kernel may not be ideal and for larger simulations may lead to quite a slowdown (simulation animation will run much slower than \"real-time\"). Therefore, a better option is to export the animation to an HTML5 video, and render that inside the notebook. However, this will require that ```ffmpeg``` is installed on your machine (available [here](https://ffmpeg.org/download.html)), and that matplotlib is configured to the path of your ```ffmpeg``` installation. You can achieve by running the (edited to your path) command below a single time:"
   ]
  },
  {
   "cell_type": "code",
   "execution_count": null,
   "id": "8de0df0a",
   "metadata": {},
   "outputs": [],
   "source": [
    "#plt.rcParams['animation.ffmpeg_path'] = 'your-path-to-ffmpeg'"
   ]
  },
  {
   "cell_type": "markdown",
   "id": "a94a4285",
   "metadata": {},
   "source": [
    "When this is correctly set up, you should be able to execute the following without error. It takes a while to generate, but the animation will be much smoother, i.e. run at the correct timing, and it won't occupy the python kernel."
   ]
  },
  {
   "cell_type": "code",
   "execution_count": null,
   "id": "85452375",
   "metadata": {},
   "outputs": [],
   "source": [
    "#HTML(ca1.video_simulation_animation(speed_up=5.0))"
   ]
  },
  {
   "cell_type": "markdown",
   "id": "ccce2e83",
   "metadata": {},
   "source": [
    "Done!"
   ]
  }
 ],
 "metadata": {
  "kernelspec": {
   "display_name": "Python 3 (ipykernel)",
   "language": "python",
   "name": "python3"
  },
  "language_info": {
   "codemirror_mode": {
    "name": "ipython",
    "version": 3
   },
   "file_extension": ".py",
   "mimetype": "text/x-python",
   "name": "python",
   "nbconvert_exporter": "python",
   "pygments_lexer": "ipython3",
   "version": "3.10.4"
  }
 },
 "nbformat": 4,
 "nbformat_minor": 5
}
