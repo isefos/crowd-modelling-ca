{
 "cells": [
  {
   "cell_type": "markdown",
   "id": "049c1349",
   "metadata": {},
   "source": [
    "# Task 2: First step of a single pedestrian"
   ]
  },
  {
   "cell_type": "markdown",
   "id": "99193516",
   "metadata": {},
   "source": [
    "Define a scenario with 50 by 50 cells (2500 in total), a single pedestrian at position (5; 25) and a target 20\n",
    "cells away from them at (25; 25). Simulate the scenario with your cellular automaton for 25 time steps, so that\n",
    "the pedestrian moves towards the target and waits there."
   ]
  },
  {
   "cell_type": "code",
   "execution_count": null,
   "id": "b72b197a",
   "metadata": {},
   "outputs": [],
   "source": [
    "# always import addroot first\n",
    "import addroot"
   ]
  },
  {
   "cell_type": "code",
   "execution_count": null,
   "id": "19c3e28f",
   "metadata": {},
   "outputs": [],
   "source": [
    "# we will import everything else here\n",
    "from src.ca import CrowdModelCellularAutomaton\n",
    "from src.config import get_save_figure_function\n",
    "from IPython.display import HTML\n",
    "\n",
    "save_current_figure = get_save_figure_function(\"2_single_pedestrian\")\n",
    "\n",
    "\n",
    "# set matplotlib to interactive mode -> requires ipympl to be installed\n",
    "%matplotlib widget\n",
    "\n",
    "%reload_ext autoreload\n",
    "%autoreload 2"
   ]
  },
  {
   "cell_type": "markdown",
   "id": "a7e70d42",
   "metadata": {},
   "source": [
    " - 50 by 50 grid\n",
    " - so that the pedestrian moves towards the target and waits there -> targets should not be absorbing"
   ]
  },
  {
   "cell_type": "code",
   "execution_count": null,
   "id": "ca375803",
   "metadata": {},
   "outputs": [],
   "source": [
    "ca1 = CrowdModelCellularAutomaton(grid_size=(50, 50), absorbing_targets=False)"
   ]
  },
  {
   "cell_type": "markdown",
   "id": "feb908c4",
   "metadata": {},
   "source": [
    " - a single pedestrian at position (5; 25)\n",
    " - in order for the pedestrian to reach the target in 25 steps, it needs to be sufficiently fast -> set max speed"
   ]
  },
  {
   "cell_type": "code",
   "execution_count": null,
   "id": "d30405eb",
   "metadata": {},
   "outputs": [],
   "source": [
    "ca1.set_cell_pedestrian((5, 25), max_speed_fraction=1.0)"
   ]
  },
  {
   "cell_type": "markdown",
   "id": "ffd4d57d",
   "metadata": {},
   "source": [
    " - a target 20 cells away from them at (25; 25)"
   ]
  },
  {
   "cell_type": "code",
   "execution_count": null,
   "id": "20eb29f1",
   "metadata": {},
   "outputs": [],
   "source": [
    "ca1.set_cell_target((25, 25))\n",
    "ca1.save_state()\n",
    "ca1.plot_state()\n",
    "save_current_figure(\"initial_state\")"
   ]
  },
  {
   "cell_type": "markdown",
   "id": "4ccac1d9",
   "metadata": {},
   "source": [
    " - simulate the scenario with your cellular automaton for 25 time steps"
   ]
  },
  {
   "cell_type": "code",
   "execution_count": null,
   "id": "6cdea40e",
   "metadata": {},
   "outputs": [],
   "source": [
    "steps = 25\n",
    "seconds = steps * ca1.simulation_parameters.time_step\n",
    "ca1.simulate(start_at_saved_state=True, seconds=seconds)\n",
    "ca1.plot_simulation_end_state()\n",
    "save_current_figure(\"end_state\")"
   ]
  },
  {
   "cell_type": "code",
   "execution_count": null,
   "id": "88339dbf",
   "metadata": {
    "scrolled": false
   },
   "outputs": [],
   "source": [
    "ca1.plot_simulation_with_time_slider()"
   ]
  },
  {
   "cell_type": "code",
   "execution_count": null,
   "id": "edf53112",
   "metadata": {},
   "outputs": [],
   "source": [
    "# once you have selected a slider position that you like:\n",
    "#save_current_figure(\"slider_state\")"
   ]
  },
  {
   "cell_type": "code",
   "execution_count": null,
   "id": "eeee9189",
   "metadata": {},
   "outputs": [],
   "source": [
    "# feel free to switch to html video if you have ffmpeg installed\n",
    "\n",
    "#HTML(ca1.video_simulation_animation())\n",
    "animation = ca1.plot_simulation_animation()"
   ]
  },
  {
   "cell_type": "markdown",
   "id": "9acf5872",
   "metadata": {},
   "source": [
    "Done!"
   ]
  }
 ],
 "metadata": {
  "kernelspec": {
   "display_name": "Python 3 (ipykernel)",
   "language": "python",
   "name": "python3"
  },
  "language_info": {
   "codemirror_mode": {
    "name": "ipython",
    "version": 3
   },
   "file_extension": ".py",
   "mimetype": "text/x-python",
   "name": "python",
   "nbconvert_exporter": "python",
   "pygments_lexer": "ipython3",
   "version": "3.10.4"
  }
 },
 "nbformat": 4,
 "nbformat_minor": 5
}
