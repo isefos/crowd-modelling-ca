{
 "cells": [
  {
   "cell_type": "markdown",
   "id": "dbb651b4",
   "metadata": {},
   "source": [
    "# Task 4: Obstacle avoidance\n",
    "\n",
    "\"What happens in the scenario shown in figure (10) of RiMEA (bottleneck), if obstacle avoidance is not implemented? What happens for the \"chicken test\" scenario?\""
   ]
  },
  {
   "cell_type": "code",
   "execution_count": null,
   "id": "c4b35a1a",
   "metadata": {},
   "outputs": [],
   "source": [
    "# always import addroot first\n",
    "import addroot"
   ]
  },
  {
   "cell_type": "code",
   "execution_count": null,
   "id": "68a8b6a5",
   "metadata": {},
   "outputs": [],
   "source": [
    "# we will import everything else here\n",
    "from src.ca import CrowdModelCellularAutomaton\n",
    "from src.config import get_save_figure_function\n",
    "\n",
    "save_current_figure = get_save_figure_function(\"4_obstacle_avoidance\")\n",
    "\n",
    "\n",
    "# set matplotlib to interactive mode -> requires ipympl to be installed\n",
    "%matplotlib widget\n",
    "\n",
    "%reload_ext autoreload\n",
    "%autoreload 2"
   ]
  },
  {
   "cell_type": "markdown",
   "id": "4bde5577",
   "metadata": {},
   "source": [
    "## 1. Set up scenarios."
   ]
  },
  {
   "cell_type": "code",
   "execution_count": null,
   "id": "54ba7a23",
   "metadata": {},
   "outputs": [],
   "source": [
    "bottleneck_grid_size = (26, 63)\n",
    "bottleneck_simulation_time = 100\n",
    "\n",
    "\n",
    "def set_up_bottleneck(ca):\n",
    "    # should have a grid size of (26, 63) \n",
    "    ca.set_area_obstacle((0, 25), (11, 25))\n",
    "    ca.set_area_obstacle((14, 25), (25, 25))\n",
    "    ca.set_area_obstacle((11, 26), (11, 38))\n",
    "    ca.set_area_obstacle((14, 26), (14, 38))\n",
    "    ca.set_area_obstacle((0, 38), (11, 38))\n",
    "    ca.set_area_obstacle((14, 38), (25, 38))\n",
    "    ca.set_area_pedestrian_random_n(150, (0, 0), (25, 12))\n",
    "    ca.set_area_target((12, 62), (13, 62))\n",
    "    ca.save_state()"
   ]
  },
  {
   "cell_type": "code",
   "execution_count": null,
   "id": "4d1f5cdb",
   "metadata": {},
   "outputs": [],
   "source": [
    "chicken_test_grid_size = (25, 50)\n",
    "chicken_test_simulation_time = 30\n",
    "\n",
    "\n",
    "def set_up_chicken_test(ca):\n",
    "    # should have a grid size of (25, 50)\n",
    "    ca.set_area_obstacle((5, 20), (5, 30))\n",
    "    ca.set_area_obstacle((19, 20), (19, 30))\n",
    "    ca.set_area_obstacle((6, 30), (18, 30))\n",
    "    ca.set_cell_pedestrian((12, 10))\n",
    "    ca.set_cell_target((12, 40))\n",
    "    ca.save_state()"
   ]
  },
  {
   "cell_type": "markdown",
   "id": "d1f40b92",
   "metadata": {},
   "source": [
    "## 2. No obstacle avoidance.\n",
    " \n",
    "### 2.1 Go through obstacles.\n",
    "\n",
    "If by \"without obstacle avoidance\" it is meant that pedestrians can simply go through obstacles, then we have this:\n",
    " \n",
    "#### 2.1.1 For the bottleneck scenario."
   ]
  },
  {
   "cell_type": "code",
   "execution_count": null,
   "id": "cc0274d2",
   "metadata": {},
   "outputs": [],
   "source": [
    "ca1_1 = CrowdModelCellularAutomaton(bottleneck_grid_size, \n",
    "                                    constant_cost_map=\"no_obstacle_avoidance\", \n",
    "                                    no_obstacle_avoidance=True)\n",
    "set_up_bottleneck(ca1_1)\n",
    "ca1_1.plot_state()\n",
    "save_current_figure(\"bottleneck_scenario\")"
   ]
  },
  {
   "cell_type": "code",
   "execution_count": null,
   "id": "a4c99aba",
   "metadata": {},
   "outputs": [],
   "source": [
    "ca1_1.simulate(start_at_saved_state=True, seconds=bottleneck_simulation_time)"
   ]
  },
  {
   "cell_type": "code",
   "execution_count": null,
   "id": "65ecbb33",
   "metadata": {},
   "outputs": [],
   "source": [
    "ca1_1.plot_simulation_end_state()\n",
    "save_current_figure(\"bottleneck_no_avoidance\")"
   ]
  },
  {
   "cell_type": "code",
   "execution_count": null,
   "id": "4b1e504d",
   "metadata": {},
   "outputs": [],
   "source": [
    "ca1_1.plot_simulation_with_time_slider()"
   ]
  },
  {
   "cell_type": "code",
   "execution_count": null,
   "id": "ac5fa062",
   "metadata": {},
   "outputs": [],
   "source": [
    "# once you have selected a slider position that you like:\n",
    "#save_current_figure(\"bottleneck_no_avoidance_slider\")"
   ]
  },
  {
   "cell_type": "markdown",
   "id": "f667b741",
   "metadata": {},
   "source": [
    "#### 2.1.2 For the chicken test scenario."
   ]
  },
  {
   "cell_type": "code",
   "execution_count": null,
   "id": "569da5a1",
   "metadata": {},
   "outputs": [],
   "source": [
    "ca1_2 = CrowdModelCellularAutomaton(chicken_test_grid_size, \n",
    "                                    constant_cost_map=\"no_obstacle_avoidance\", \n",
    "                                    no_obstacle_avoidance=True)\n",
    "set_up_chicken_test(ca1_2)\n",
    "ca1_2.plot_state()\n",
    "save_current_figure(\"chicken_test_scenario\")"
   ]
  },
  {
   "cell_type": "code",
   "execution_count": null,
   "id": "12e4a4f6",
   "metadata": {},
   "outputs": [],
   "source": [
    "ca1_2.simulate(start_at_saved_state=True, seconds=chicken_test_simulation_time)"
   ]
  },
  {
   "cell_type": "code",
   "execution_count": null,
   "id": "2ab6b698",
   "metadata": {},
   "outputs": [],
   "source": [
    "ca1_2.plot_simulation_end_state()\n",
    "save_current_figure(\"chicken_test_no_avoidance\")"
   ]
  },
  {
   "cell_type": "code",
   "execution_count": null,
   "id": "f3dbc69d",
   "metadata": {},
   "outputs": [],
   "source": [
    "ca1_2.plot_simulation_with_time_slider()"
   ]
  },
  {
   "cell_type": "code",
   "execution_count": null,
   "id": "5158e633",
   "metadata": {},
   "outputs": [],
   "source": [
    "# once you have selected a slider position that you like:\n",
    "#save_current_figure(\"chicken_test_no_avoidance_slider\")"
   ]
  },
  {
   "cell_type": "markdown",
   "id": "ec49d71c",
   "metadata": {},
   "source": [
    "CLearly, this is just broken. The obstacle cells turn into pedestrian cells and are removed.\n",
    " \n",
    "### 2.2 No obstacle avoidance strategy.\n",
    "\n",
    "If by \"without obstacle avoidance\" it is meant that pedestrians do not have a strategy to get around obstacles (simply using the euclidean distance to the target), then we have this:\n",
    " \n",
    "#### 2.2.1 For the bottleneck scenario."
   ]
  },
  {
   "cell_type": "code",
   "execution_count": null,
   "id": "00aa27ca",
   "metadata": {},
   "outputs": [],
   "source": [
    "ca2_1 = CrowdModelCellularAutomaton(bottleneck_grid_size, constant_cost_map=\"min_euclidean_distance\")\n",
    "set_up_bottleneck(ca2_1)\n",
    "ca2_1.simulate(start_at_saved_state=True, seconds=bottleneck_simulation_time)"
   ]
  },
  {
   "cell_type": "code",
   "execution_count": null,
   "id": "b1fcc20b",
   "metadata": {},
   "outputs": [],
   "source": [
    "ca2_1.plot_simulation_end_state()\n",
    "save_current_figure(\"bottleneck_euclidean_distance\")"
   ]
  },
  {
   "cell_type": "code",
   "execution_count": null,
   "id": "f2474b7e",
   "metadata": {},
   "outputs": [],
   "source": [
    "ca2_1.plot_simulation_with_time_slider()"
   ]
  },
  {
   "cell_type": "code",
   "execution_count": null,
   "id": "4d543e20",
   "metadata": {},
   "outputs": [],
   "source": [
    "# once you have selected a slider position that you like:\n",
    "#save_current_figure(\"bottleneck_euclidean_distance_slider\")"
   ]
  },
  {
   "cell_type": "markdown",
   "id": "5dc87955",
   "metadata": {},
   "source": [
    "Clearly, the pedestrians behave in a sub-optimal and strange fashion. However, they do end up all reaching the target, and the test criterion of scenario 12 is even passed (only room 1 has a congestion, not room 2)."
   ]
  },
  {
   "cell_type": "markdown",
   "id": "f1212421",
   "metadata": {},
   "source": [
    "#### 2.2.2 For the chicken test scenario."
   ]
  },
  {
   "cell_type": "code",
   "execution_count": null,
   "id": "bef142e3",
   "metadata": {},
   "outputs": [],
   "source": [
    "ca2_2 = CrowdModelCellularAutomaton(chicken_test_grid_size, constant_cost_map=\"min_euclidean_distance\")\n",
    "set_up_chicken_test(ca2_2)\n",
    "ca2_2.simulate(start_at_saved_state=True, seconds=chicken_test_simulation_time)"
   ]
  },
  {
   "cell_type": "code",
   "execution_count": null,
   "id": "3a8492ce",
   "metadata": {},
   "outputs": [],
   "source": [
    "ca2_2.plot_simulation_end_state()\n",
    "save_current_figure(\"chicken_test_euclidean_distance\")"
   ]
  },
  {
   "cell_type": "code",
   "execution_count": null,
   "id": "5085b76a",
   "metadata": {},
   "outputs": [],
   "source": [
    "ca2_2.plot_simulation_with_time_slider()"
   ]
  },
  {
   "cell_type": "code",
   "execution_count": null,
   "id": "11ca2083",
   "metadata": {},
   "outputs": [],
   "source": [
    "# once you have selected a slider position that you like:\n",
    "#save_current_figure(\"chicken_test_euclidean_distance_slider\")"
   ]
  },
  {
   "cell_type": "markdown",
   "id": "99cbfed2",
   "metadata": {},
   "source": [
    "In the chicken test scenario the pedestrian fails to reach the target without a strategy to avoid the large C-shaped obstacle in front of it."
   ]
  },
  {
   "cell_type": "markdown",
   "id": "e9dcfe0f",
   "metadata": {},
   "source": [
    "## 3. With obstacle avoidance.\n",
    "\n",
    "With the Dijkstra algorithm we can compute the shortest path from any cell to the target. Then we can save this as a cost value, and simply let the pedestrian choose locally which neighboring cell has the smallest cost.\n",
    "\n",
    "### 3.1 For the bottleneck scenario."
   ]
  },
  {
   "cell_type": "code",
   "execution_count": null,
   "id": "0556cd8e",
   "metadata": {},
   "outputs": [],
   "source": [
    "ca3_1 = CrowdModelCellularAutomaton(bottleneck_grid_size, constant_cost_map=\"shortest_path\")\n",
    "set_up_bottleneck(ca3_1)\n",
    "ca3_1.simulate(start_at_saved_state=True, seconds=bottleneck_simulation_time)"
   ]
  },
  {
   "cell_type": "code",
   "execution_count": null,
   "id": "362c0e20",
   "metadata": {},
   "outputs": [],
   "source": [
    "ca3_1.plot_simulation_end_state()\n",
    "save_current_figure(\"bottleneck_shortest_path\")"
   ]
  },
  {
   "cell_type": "code",
   "execution_count": null,
   "id": "1984269a",
   "metadata": {},
   "outputs": [],
   "source": [
    "ca3_1.plot_simulation_with_time_slider()"
   ]
  },
  {
   "cell_type": "code",
   "execution_count": null,
   "id": "bea7ee3b",
   "metadata": {},
   "outputs": [],
   "source": [
    "# once you have selected a slider position that you like:\n",
    "#save_current_figure(\"bottleneck_shortest_path_slider\")"
   ]
  },
  {
   "cell_type": "markdown",
   "id": "5ede3de0",
   "metadata": {},
   "source": [
    "Now the pedestrians behave in a much more natural way, joining up in the middle of the room. And the test criterion of scenario 12 is still passed (only room 1 has a congestion, not room 2). We can see why this is the case by comparing the cost maps. Before, we set the cost to the minimum distance to a target:"
   ]
  },
  {
   "cell_type": "code",
   "execution_count": null,
   "id": "893b3258",
   "metadata": {},
   "outputs": [],
   "source": [
    "ca2_1.plot_constant_cost_map(fig_size=(7, 3))\n",
    "save_current_figure(\"bottleneck_euclidean_distance_cost\")"
   ]
  },
  {
   "cell_type": "markdown",
   "id": "d58159ff",
   "metadata": {},
   "source": [
    "And now the cost is the distance of the shortest actual path that leads to the target:"
   ]
  },
  {
   "cell_type": "code",
   "execution_count": null,
   "id": "1920c3e7",
   "metadata": {},
   "outputs": [],
   "source": [
    "ca3_1.plot_constant_cost_map(fig_size=(7, 3))\n",
    "save_current_figure(\"bottleneck_shortest_path_cost\")"
   ]
  },
  {
   "cell_type": "markdown",
   "id": "9bc629e8",
   "metadata": {},
   "source": [
    "### 3.2 For the chicken test scenario."
   ]
  },
  {
   "cell_type": "code",
   "execution_count": null,
   "id": "c80e1453",
   "metadata": {},
   "outputs": [],
   "source": [
    "ca3_2 = CrowdModelCellularAutomaton(chicken_test_grid_size, constant_cost_map=\"shortest_path\")\n",
    "set_up_chicken_test(ca3_2)\n",
    "ca3_2.simulate(start_at_saved_state=True, seconds=chicken_test_simulation_time)"
   ]
  },
  {
   "cell_type": "code",
   "execution_count": null,
   "id": "24771fc3",
   "metadata": {},
   "outputs": [],
   "source": [
    "ca3_2.plot_simulation_end_state()\n",
    "save_current_figure(\"chicken_test_shortest_path\")"
   ]
  },
  {
   "cell_type": "code",
   "execution_count": null,
   "id": "00a45588",
   "metadata": {},
   "outputs": [],
   "source": [
    "ca3_2.plot_simulation_with_time_slider()"
   ]
  },
  {
   "cell_type": "code",
   "execution_count": null,
   "id": "e8a1207f",
   "metadata": {},
   "outputs": [],
   "source": [
    "# once you have selected a slider position that you like:\n",
    "#save_current_figure(\"chicken_test_shortest_path_slider\")"
   ]
  },
  {
   "cell_type": "markdown",
   "id": "288afa56",
   "metadata": {},
   "source": [
    "And now the pedestrian is able to avoid the obstacle in the chicken test! Again, we can compare the cost maps to see how it works:. Before, with the euclidean distance:"
   ]
  },
  {
   "cell_type": "code",
   "execution_count": null,
   "id": "4abb4eea",
   "metadata": {},
   "outputs": [],
   "source": [
    "ca2_2.plot_constant_cost_map(fig_size=(7, 3))\n",
    "save_current_figure(\"chicken_test_euclidean_distance_cost\")"
   ]
  },
  {
   "cell_type": "markdown",
   "id": "9689c826",
   "metadata": {},
   "source": [
    "Now with the shortest path distance:"
   ]
  },
  {
   "cell_type": "code",
   "execution_count": null,
   "id": "d94b5ae6",
   "metadata": {},
   "outputs": [],
   "source": [
    "ca3_2.plot_constant_cost_map(fig_size=(7, 3))\n",
    "save_current_figure(\"chicken_test_shortest_path_cost\")"
   ]
  },
  {
   "cell_type": "markdown",
   "id": "fe82b30b",
   "metadata": {},
   "source": [
    "Done!"
   ]
  }
 ],
 "metadata": {
  "kernelspec": {
   "display_name": "Python 3 (ipykernel)",
   "language": "python",
   "name": "python3"
  },
  "language_info": {
   "codemirror_mode": {
    "name": "ipython",
    "version": 3
   },
   "file_extension": ".py",
   "mimetype": "text/x-python",
   "name": "python",
   "nbconvert_exporter": "python",
   "pygments_lexer": "ipython3",
   "version": "3.10.4"
  }
 },
 "nbformat": 4,
 "nbformat_minor": 5
}
